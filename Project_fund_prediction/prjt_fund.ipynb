{
 "cells": [
  {
   "cell_type": "code",
   "execution_count": 46,
   "metadata": {},
   "outputs": [
    {
     "data": {
      "text/html": [
       "<div>\n",
       "<style scoped>\n",
       "    .dataframe tbody tr th:only-of-type {\n",
       "        vertical-align: middle;\n",
       "    }\n",
       "\n",
       "    .dataframe tbody tr th {\n",
       "        vertical-align: top;\n",
       "    }\n",
       "\n",
       "    .dataframe thead th {\n",
       "        text-align: right;\n",
       "    }\n",
       "</style>\n",
       "<table border=\"1\" class=\"dataframe\">\n",
       "  <thead>\n",
       "    <tr style=\"text-align: right;\">\n",
       "      <th></th>\n",
       "      <th>project_id</th>\n",
       "      <th>name</th>\n",
       "      <th>desc</th>\n",
       "      <th>goal</th>\n",
       "      <th>keywords</th>\n",
       "      <th>disable_communication</th>\n",
       "      <th>country</th>\n",
       "      <th>currency</th>\n",
       "      <th>deadline</th>\n",
       "      <th>state_changed_at</th>\n",
       "      <th>created_at</th>\n",
       "      <th>launched_at</th>\n",
       "      <th>backers_count</th>\n",
       "      <th>final_status</th>\n",
       "    </tr>\n",
       "  </thead>\n",
       "  <tbody>\n",
       "    <tr>\n",
       "      <th>0</th>\n",
       "      <td>kkst1451568084</td>\n",
       "      <td>drawing for dollars</td>\n",
       "      <td>I like drawing pictures. and then i color them...</td>\n",
       "      <td>20.0</td>\n",
       "      <td>drawing-for-dollars</td>\n",
       "      <td>False</td>\n",
       "      <td>US</td>\n",
       "      <td>USD</td>\n",
       "      <td>1241333999</td>\n",
       "      <td>1241334017</td>\n",
       "      <td>1240600507</td>\n",
       "      <td>1240602723</td>\n",
       "      <td>3</td>\n",
       "      <td>1</td>\n",
       "    </tr>\n",
       "    <tr>\n",
       "      <th>1</th>\n",
       "      <td>kkst1474482071</td>\n",
       "      <td>Sponsor Dereck Blackburn (Lostwars) Artist in ...</td>\n",
       "      <td>I, Dereck Blackburn will be taking upon an inc...</td>\n",
       "      <td>300.0</td>\n",
       "      <td>sponsor-dereck-blackburn-lostwars-artist-in-re...</td>\n",
       "      <td>False</td>\n",
       "      <td>US</td>\n",
       "      <td>USD</td>\n",
       "      <td>1242429000</td>\n",
       "      <td>1242432018</td>\n",
       "      <td>1240960224</td>\n",
       "      <td>1240975592</td>\n",
       "      <td>2</td>\n",
       "      <td>0</td>\n",
       "    </tr>\n",
       "  </tbody>\n",
       "</table>\n",
       "</div>"
      ],
      "text/plain": [
       "       project_id                                               name  \\\n",
       "0  kkst1451568084                                drawing for dollars   \n",
       "1  kkst1474482071  Sponsor Dereck Blackburn (Lostwars) Artist in ...   \n",
       "\n",
       "                                                desc   goal  \\\n",
       "0  I like drawing pictures. and then i color them...   20.0   \n",
       "1  I, Dereck Blackburn will be taking upon an inc...  300.0   \n",
       "\n",
       "                                            keywords  disable_communication  \\\n",
       "0                                drawing-for-dollars                  False   \n",
       "1  sponsor-dereck-blackburn-lostwars-artist-in-re...                  False   \n",
       "\n",
       "  country currency    deadline  state_changed_at  created_at  launched_at  \\\n",
       "0      US      USD  1241333999        1241334017  1240600507   1240602723   \n",
       "1      US      USD  1242429000        1242432018  1240960224   1240975592   \n",
       "\n",
       "   backers_count  final_status  \n",
       "0              3             1  \n",
       "1              2             0  "
      ]
     },
     "execution_count": 46,
     "metadata": {},
     "output_type": "execute_result"
    }
   ],
   "source": [
    "import pandas as pd\n",
    "import numpy as np\n",
    "import seaborn as sns\n",
    "import matplotlib.pyplot as plt\n",
    "\n",
    "train=pd.read_csv('fund_train.csv')\n",
    "test=pd.read_csv('fund_test.csv')\n",
    "\n",
    "cat=pd.DataFrame()\n",
    "cat_test=pd.DataFrame()\n",
    "train.head(2)\n"
   ]
  },
  {
   "cell_type": "code",
   "execution_count": 2,
   "metadata": {},
   "outputs": [
    {
     "data": {
      "image/png": "[encoded data removed]",
      "text/plain": [
       "<Figure size 432x288 with 1 Axes>"
      ]
     },
     "metadata": {
      "needs_background": "light"
     },
     "output_type": "display_data"
    },
    {
     "data": {
      "image/png": "[encoded data removed]",
      "text/plain": [
       "<Figure size 432x288 with 1 Axes>"
      ]
     },
     "metadata": {
      "needs_background": "light"
     },
     "output_type": "display_data"
    }
   ],
   "source": [
    "cat['disable_communication']=train['disable_communication']\n",
    "cat['disable_communication'].isnull().sum()\n",
    "sns.countplot(x='disable_communication',data=cat)\n",
    "plt.show()\n",
    "\n",
    "cat_test['disable_communication']=test['disable_communication']\n",
    "\n",
    "\n",
    "cat['country']=train['country']\n",
    "cat['country'].isnull().sum()\n",
    "\n",
    "cat_test['country']=test['country']\n",
    "\n",
    "\n",
    "cat['currency']=train['currency']\n",
    "cat['currency'].isnull().sum()\n",
    "sns.countplot(x='currency',data=cat)\n",
    "plt.show()\n",
    "\n",
    "cat_test['currency']=test['currency']\n"
   ]
  },
  {
   "cell_type": "code",
   "execution_count": 3,
   "metadata": {},
   "outputs": [],
   "source": [
    "# Changing unix time to standard time\n",
    "import time\n",
    "cols =  ['deadline','state_changed_at','launched_at','created_at']\n",
    "for col in cols:\n",
    "    train[col] = train[col].apply(lambda k: time.ctime(k))\n",
    "    test[col] = test[col].apply(lambda k: time.ctime(k))\n",
    "\n",
    "    \n",
    "cols =  ['deadline','state_changed_at','launched_at','created_at']\n",
    "for col in cols:\n",
    "    train[col] = pd.to_datetime(train[col])\n",
    "    test[col] = pd.to_datetime(test[col])"
   ]
  },
  {
   "cell_type": "code",
   "execution_count": 8,
   "metadata": {},
   "outputs": [],
   "source": [
    "cat['deadline_year'] = train[\"deadline\"].dt.year\n",
    "cat['deadline_month'] = train[\"deadline\"].dt.month\n",
    "cat['deadline_day'] = train[\"deadline\"].dt.day\n",
    "cat['deadline_hour'] = train[\"deadline\"].dt.hour\n",
    "\n",
    "cat['state_changed_at_year'] = train[\"state_changed_at\"].dt.year\n",
    "cat['state_changed_at_month'] = train[\"state_changed_at\"].dt.month\n",
    "cat['state_changed_at_day'] = train[\"state_changed_at\"].dt.day\n",
    "cat['state_changed_at_hour'] = train[\"state_changed_at\"].dt.hour\n",
    "\n",
    "cat['created_at_year'] = train[\"created_at\"].dt.year\n",
    "cat['created_at_month'] = train[\"created_at\"].dt.month\n",
    "cat['created_at_day'] = train[\"created_at\"].dt.day\n",
    "cat['created_at_hour'] = train[\"created_at\"].dt.hour\n",
    "\n",
    "cat['launched_at_year'] = train[\"launched_at\"].dt.year\n",
    "cat['launched_at_month'] = train[\"launched_at\"].dt.month\n",
    "cat['launched_at_day'] = train[\"launched_at\"].dt.day\n",
    "cat['launched_at_hour'] = train[\"launched_at\"].dt.hour\n"
   ]
  },
  {
   "cell_type": "code",
   "execution_count": 9,
   "metadata": {},
   "outputs": [],
   "source": [
    "cat_test['deadline_year'] = test[\"deadline\"].dt.year\n",
    "cat_test['deadline_month'] = test[\"deadline\"].dt.month\n",
    "cat_test['deadline_day'] = test[\"deadline\"].dt.day\n",
    "cat_test['deadline_hour'] = test[\"deadline\"].dt.hour\n",
    "\n",
    "cat_test['state_changed_at_year'] = test[\"state_changed_at\"].dt.year\n",
    "cat_test['state_changed_at_month'] = test[\"state_changed_at\"].dt.month\n",
    "cat_test['state_changed_at_day'] = test[\"state_changed_at\"].dt.day\n",
    "cat_test['state_changed_at_hour'] = test[\"state_changed_at\"].dt.hour\n",
    "\n",
    "cat_test['created_at_year'] = test[\"created_at\"].dt.year\n",
    "cat_test['created_at_month'] = test[\"created_at\"].dt.month\n",
    "cat_test['created_at_day'] = test[\"created_at\"].dt.day\n",
    "cat_test['created_at_hour'] = test[\"created_at\"].dt.hour\n",
    "\n",
    "cat_test['launched_at_year'] = test[\"launched_at\"].dt.year\n",
    "cat_test['launched_at_month'] = test[\"launched_at\"].dt.month\n",
    "cat_test['launched_at_day'] = test[\"launched_at\"].dt.day\n",
    "cat_test['launched_at_hour'] = test[\"launched_at\"].dt.hour\n"
   ]
  },
  {
   "cell_type": "code",
   "execution_count": 10,
   "metadata": {},
   "outputs": [
    {
     "data": {
      "image/png": "[encoded data removed]",
      "text/plain": [
       "<Figure size 432x288 with 1 Axes>"
      ]
     },
     "metadata": {
      "needs_background": "light"
     },
     "output_type": "display_data"
    }
   ],
   "source": [
    "num =pd.DataFrame()\n",
    "num_test =pd.DataFrame()\n",
    "\n",
    "num['final_status']=train['final_status']\n",
    "sns.countplot(x='final_status',data=num)\n",
    "plt.show()\n"
   ]
  },
  {
   "cell_type": "code",
   "execution_count": 11,
   "metadata": {},
   "outputs": [
    {
     "name": "stderr",
     "output_type": "stream",
     "text": [
      "C:\\Users\\ASHU\\Anaconda3\\lib\\site-packages\\scipy\\stats\\stats.py:1713: FutureWarning: Using a non-tuple sequence for multidimensional indexing is deprecated; use `arr[tuple(seq)]` instead of `arr[seq]`. In the future this will be interpreted as an array index, `arr[np.array(seq)]`, which will result either in an error or a different result.\n",
      "  return np.add.reduce(sorted[indexer] * weights, axis=axis) / sumval\n"
     ]
    },
    {
     "data": {
      "image/png": "[encoded data removed]",
      "text/plain": [
       "<Figure size 432x288 with 1 Axes>"
      ]
     },
     "metadata": {
      "needs_background": "light"
     },
     "output_type": "display_data"
    }
   ],
   "source": [
    "num['backers_count']=train['backers_count']\n",
    "sns.barplot(x = 'final_status', y = 'backers_count', data = num)\n",
    "plt.show()\n"
   ]
  },
  {
   "cell_type": "code",
   "execution_count": 12,
   "metadata": {},
   "outputs": [
    {
     "data": {
      "image/png": "[encoded data removed]",
      "text/plain": [
       "<Figure size 432x288 with 1 Axes>"
      ]
     },
     "metadata": {
      "needs_background": "light"
     },
     "output_type": "display_data"
    },
    {
     "data": {
      "text/html": [
       "<div>\n",
       "<style scoped>\n",
       "    .dataframe tbody tr th:only-of-type {\n",
       "        vertical-align: middle;\n",
       "    }\n",
       "\n",
       "    .dataframe tbody tr th {\n",
       "        vertical-align: top;\n",
       "    }\n",
       "\n",
       "    .dataframe thead th {\n",
       "        text-align: right;\n",
       "    }\n",
       "</style>\n",
       "<table border=\"1\" class=\"dataframe\">\n",
       "  <thead>\n",
       "    <tr style=\"text-align: right;\">\n",
       "      <th></th>\n",
       "      <th>goal</th>\n",
       "      <th>backers_count</th>\n",
       "    </tr>\n",
       "  </thead>\n",
       "  <tbody>\n",
       "    <tr>\n",
       "      <th>0</th>\n",
       "      <td>7000.0</td>\n",
       "      <td>0</td>\n",
       "    </tr>\n",
       "    <tr>\n",
       "      <th>1</th>\n",
       "      <td>35000.0</td>\n",
       "      <td>0</td>\n",
       "    </tr>\n",
       "  </tbody>\n",
       "</table>\n",
       "</div>"
      ],
      "text/plain": [
       "      goal  backers_count\n",
       "0   7000.0              0\n",
       "1  35000.0              0"
      ]
     },
     "execution_count": 12,
     "metadata": {},
     "output_type": "execute_result"
    },
    {
     "data": {
      "image/png": "[encoded data removed]",
      "text/plain": [
       "<Figure size 432x288 with 1 Axes>"
      ]
     },
     "metadata": {
      "needs_background": "light"
     },
     "output_type": "display_data"
    }
   ],
   "source": [
    "num['goal']=train['goal']\n",
    "sns.barplot(x = 'final_status', y = 'goal', data = num)\n",
    "plt.show()\n",
    "z=np.log(num['goal'])\n",
    "sns.distplot(z)\n",
    "\n",
    "num_test['goal']=test['goal']\n",
    "num_test['backers_count']=0\n",
    "num_test.head(2)"
   ]
  },
  {
   "cell_type": "code",
   "execution_count": 13,
   "metadata": {},
   "outputs": [
    {
     "data": {
      "image/png": "[encoded data removed]",
      "text/plain": [
       "<Figure size 432x288 with 1 Axes>"
      ]
     },
     "metadata": {
      "needs_background": "light"
     },
     "output_type": "display_data"
    }
   ],
   "source": [
    "sns.barplot(x =cat['deadline_year'] , y =num['final_status'] )\n",
    "plt.show()"
   ]
  },
  {
   "cell_type": "code",
   "execution_count": 14,
   "metadata": {},
   "outputs": [
    {
     "data": {
      "image/png": "[encoded data removed]",
      "text/plain": [
       "<Figure size 432x288 with 1 Axes>"
      ]
     },
     "metadata": {
      "needs_background": "light"
     },
     "output_type": "display_data"
    }
   ],
   "source": [
    "sns.barplot(x =cat['state_changed_at_month'] , y =num['final_status'] )\n",
    "plt.show()"
   ]
  },
  {
   "cell_type": "code",
   "execution_count": 15,
   "metadata": {},
   "outputs": [
    {
     "data": {
      "image/png": "[encoded data removed]",
      "text/plain": [
       "<Figure size 432x288 with 1 Axes>"
      ]
     },
     "metadata": {
      "needs_background": "light"
     },
     "output_type": "display_data"
    }
   ],
   "source": [
    "sns.barplot(x =cat['created_at_hour'] , y =num['final_status'] )\n",
    "plt.show()"
   ]
  },
  {
   "cell_type": "code",
   "execution_count": 33,
   "metadata": {},
   "outputs": [
    {
     "data": {
      "image/png": "[encoded data removed]",
      "text/plain": [
       "<Figure size 432x288 with 1 Axes>"
      ]
     },
     "metadata": {
      "needs_background": "light"
     },
     "output_type": "display_data"
    }
   ],
   "source": [
    "sns.barplot(x =cat['launched_at_day'] , y =num['final_status'] )\n",
    "plt.show()"
   ]
  },
  {
   "cell_type": "code",
   "execution_count": 16,
   "metadata": {},
   "outputs": [
    {
     "data": {
      "text/plain": [
       "US    43129\n",
       "GB     6900\n",
       "CA     3275\n",
       "AU     1846\n",
       "DE     1633\n",
       "FR     1255\n",
       "IT     1127\n",
       "ES      904\n",
       "NL      686\n",
       "SE      454\n",
       "NZ      339\n",
       "DK      300\n",
       "CH      292\n",
       "BE      274\n",
       "IE      249\n",
       "AT      223\n",
       "NO      189\n",
       "MX      172\n",
       "SG      114\n",
       "HK       82\n",
       "LU       22\n",
       "Name: country, dtype: int64"
      ]
     },
     "execution_count": 16,
     "metadata": {},
     "output_type": "execute_result"
    }
   ],
   "source": [
    "cat['country'].value_counts()\n",
    "cat_test['country'].value_counts()"
   ]
  },
  {
   "cell_type": "code",
   "execution_count": 17,
   "metadata": {},
   "outputs": [],
   "source": [
    "#  for test data\n",
    "\n",
    "cat_test[\"country\"] = cat_test[\"country\"].replace(['US','CA','MX'], 'North-America')\n",
    "cat_test[\"country\"] = cat_test[\"country\"].replace(['GB','DE','DK','CH','IE','FR','ES','NL','LU'], 'Europe')\n",
    "cat_test[\"country\"] = cat_test[\"country\"].replace(['AU','NZ'], 'Australia')\n",
    "cat_test[\"country\"] = cat_test[\"country\"].replace(['IT','AT'], 'Africa')\n",
    "cat_test[\"country\"] = cat_test[\"country\"].replace(['BF','SE','SG','HK'], 'Asia')\n",
    "cat_test[\"country\"] = cat_test[\"country\"].replace(['NO'], 'South-America')\n",
    "\n",
    "cat_test[\"country\"] = cat_test[\"country\"].map({\"North-America\":0, \"Europe\":1,\"Australia\":2, \"Africa\":3,\"Asia\":4,\"South-America\":5})\n",
    "# cat_test[\"workclass\"] = cat_test[\"workclass\"].astype(int)\n",
    "cat_country_test_one_hot = pd.get_dummies(cat_test[\"country\"], \n",
    "                                     prefix='country')\n",
    "cat_country_test_one_hot.head()\n",
    "\n",
    "\n",
    "cat[\"country\"] = cat[\"country\"].replace(['US','CA'], 'North-America')\n",
    "cat[\"country\"] = cat[\"country\"].replace(['GB','DE','DK','CH','IE'], 'Europe')\n",
    "cat[\"country\"] = cat[\"country\"].replace(['AU','NZ'], 'Australia')\n",
    "# cat[\"country\"] = cat[\"country\"].replace(['IT','AT'], 'Africa')\n",
    "cat[\"country\"] = cat[\"country\"].replace(['SE','SG'], 'Asia')\n",
    "cat[\"country\"] = cat[\"country\"].replace(['NO'], 'South-America')\n",
    "\n",
    "cat[\"country\"] = cat[\"country\"].map({\"North-America\":0, \"Europe\":1,\"Australia\":2,\"Asia\":3,\"South-America\":4})\n",
    "# cat[\"workclass\"] = cat[\"workclass\"].astype(int)\n",
    "cat_country_one_hot = pd.get_dummies(cat[\"country\"], \n",
    "                                     prefix='country')\n",
    "cat_country_one_hot['country_5.0']=0\n"
   ]
  },
  {
   "cell_type": "code",
   "execution_count": 18,
   "metadata": {},
   "outputs": [
    {
     "data": {
      "text/plain": [
       "USD    43129\n",
       "GBP     6900\n",
       "EUR     6373\n",
       "CAD     3275\n",
       "AUD     1846\n",
       "SEK      454\n",
       "NZD      339\n",
       "DKK      300\n",
       "CHF      292\n",
       "NOK      189\n",
       "MXN      172\n",
       "SGD      114\n",
       "HKD       82\n",
       "Name: currency, dtype: int64"
      ]
     },
     "execution_count": 18,
     "metadata": {},
     "output_type": "execute_result"
    }
   ],
   "source": [
    "cat['currency'].value_counts()\n",
    "cat_test['currency'].value_counts()"
   ]
  },
  {
   "cell_type": "code",
   "execution_count": 19,
   "metadata": {},
   "outputs": [
    {
     "data": {
      "text/html": [
       "<div>\n",
       "<style scoped>\n",
       "    .dataframe tbody tr th:only-of-type {\n",
       "        vertical-align: middle;\n",
       "    }\n",
       "\n",
       "    .dataframe tbody tr th {\n",
       "        vertical-align: top;\n",
       "    }\n",
       "\n",
       "    .dataframe thead th {\n",
       "        text-align: right;\n",
       "    }\n",
       "</style>\n",
       "<table border=\"1\" class=\"dataframe\">\n",
       "  <thead>\n",
       "    <tr style=\"text-align: right;\">\n",
       "      <th></th>\n",
       "      <th>currency_0</th>\n",
       "      <th>currency_1</th>\n",
       "      <th>currency_2</th>\n",
       "      <th>currency_3</th>\n",
       "    </tr>\n",
       "  </thead>\n",
       "  <tbody>\n",
       "    <tr>\n",
       "      <th>0</th>\n",
       "      <td>1</td>\n",
       "      <td>0</td>\n",
       "      <td>0</td>\n",
       "      <td>0</td>\n",
       "    </tr>\n",
       "    <tr>\n",
       "      <th>1</th>\n",
       "      <td>1</td>\n",
       "      <td>0</td>\n",
       "      <td>0</td>\n",
       "      <td>0</td>\n",
       "    </tr>\n",
       "    <tr>\n",
       "      <th>2</th>\n",
       "      <td>1</td>\n",
       "      <td>0</td>\n",
       "      <td>0</td>\n",
       "      <td>0</td>\n",
       "    </tr>\n",
       "    <tr>\n",
       "      <th>3</th>\n",
       "      <td>1</td>\n",
       "      <td>0</td>\n",
       "      <td>0</td>\n",
       "      <td>0</td>\n",
       "    </tr>\n",
       "    <tr>\n",
       "      <th>4</th>\n",
       "      <td>1</td>\n",
       "      <td>0</td>\n",
       "      <td>0</td>\n",
       "      <td>0</td>\n",
       "    </tr>\n",
       "  </tbody>\n",
       "</table>\n",
       "</div>"
      ],
      "text/plain": [
       "   currency_0  currency_1  currency_2  currency_3\n",
       "0           1           0           0           0\n",
       "1           1           0           0           0\n",
       "2           1           0           0           0\n",
       "3           1           0           0           0\n",
       "4           1           0           0           0"
      ]
     },
     "execution_count": 19,
     "metadata": {},
     "output_type": "execute_result"
    }
   ],
   "source": [
    "cat[\"currency\"] = cat[\"currency\"].replace(['USD','CAD'], 'North-America')\n",
    "cat[\"currency\"] = cat[\"currency\"].replace(['GBP','EUR','DKK','NOK'], 'Europe')\n",
    "cat[\"currency\"] = cat[\"currency\"].replace(['AUD','NZD'], 'Australia')\n",
    "# cat[\"country\"] = cat[\"country\"].replace(['IT','AT'], 'Africa')\n",
    "cat[\"currency\"] = cat[\"currency\"].replace(['SEK'], 'Asia')\n",
    "# cat[\"currency\"] = cat[\"currency\"].replace(['NO'], 'South-America')\n",
    "\n",
    "cat[\"currency\"] = cat[\"currency\"].map({\"North-America\":0, \"Europe\":1,\"Australia\":2,\"Asia\":3})\n",
    "# cat[\"workclass\"] = cat[\"workclass\"].astype(int)\n",
    "cat_currency_one_hot = pd.get_dummies(cat[\"currency\"], \n",
    "                                     prefix='currency')\n",
    "cat_currency_one_hot.head()"
   ]
  },
  {
   "cell_type": "code",
   "execution_count": 20,
   "metadata": {},
   "outputs": [
    {
     "data": {
      "text/html": [
       "<div>\n",
       "<style scoped>\n",
       "    .dataframe tbody tr th:only-of-type {\n",
       "        vertical-align: middle;\n",
       "    }\n",
       "\n",
       "    .dataframe tbody tr th {\n",
       "        vertical-align: top;\n",
       "    }\n",
       "\n",
       "    .dataframe thead th {\n",
       "        text-align: right;\n",
       "    }\n",
       "</style>\n",
       "<table border=\"1\" class=\"dataframe\">\n",
       "  <thead>\n",
       "    <tr style=\"text-align: right;\">\n",
       "      <th></th>\n",
       "      <th>currency_0</th>\n",
       "      <th>currency_1</th>\n",
       "      <th>currency_2</th>\n",
       "      <th>currency_3</th>\n",
       "    </tr>\n",
       "  </thead>\n",
       "  <tbody>\n",
       "    <tr>\n",
       "      <th>0</th>\n",
       "      <td>1</td>\n",
       "      <td>0</td>\n",
       "      <td>0</td>\n",
       "      <td>0</td>\n",
       "    </tr>\n",
       "    <tr>\n",
       "      <th>1</th>\n",
       "      <td>1</td>\n",
       "      <td>0</td>\n",
       "      <td>0</td>\n",
       "      <td>0</td>\n",
       "    </tr>\n",
       "    <tr>\n",
       "      <th>2</th>\n",
       "      <td>1</td>\n",
       "      <td>0</td>\n",
       "      <td>0</td>\n",
       "      <td>0</td>\n",
       "    </tr>\n",
       "    <tr>\n",
       "      <th>3</th>\n",
       "      <td>1</td>\n",
       "      <td>0</td>\n",
       "      <td>0</td>\n",
       "      <td>0</td>\n",
       "    </tr>\n",
       "    <tr>\n",
       "      <th>4</th>\n",
       "      <td>1</td>\n",
       "      <td>0</td>\n",
       "      <td>0</td>\n",
       "      <td>0</td>\n",
       "    </tr>\n",
       "  </tbody>\n",
       "</table>\n",
       "</div>"
      ],
      "text/plain": [
       "   currency_0  currency_1  currency_2  currency_3\n",
       "0           1           0           0           0\n",
       "1           1           0           0           0\n",
       "2           1           0           0           0\n",
       "3           1           0           0           0\n",
       "4           1           0           0           0"
      ]
     },
     "execution_count": 20,
     "metadata": {},
     "output_type": "execute_result"
    }
   ],
   "source": [
    "cat_test[\"currency\"] = cat_test[\"currency\"].replace(['USD','CAD','MXN'], 'North-America')\n",
    "cat_test[\"currency\"] = cat_test[\"currency\"].replace(['GBP','EUR','DKK','NOK','CHF'], 'Europe')\n",
    "cat_test[\"currency\"] = cat_test[\"currency\"].replace(['AUD','NZD'], 'Australia')\n",
    "# cat[\"country\"] = cat[\"country\"].replace(['IT','AT'], 'Africa')\n",
    "cat_test[\"currency\"] = cat_test[\"currency\"].replace(['SEK','SGD','HKD'], 'Asia')\n",
    "# cat[\"currency\"] = cat[\"currency\"].replace(['NO'], 'South-America')\n",
    "\n",
    "cat_test[\"currency\"] = cat_test[\"currency\"].map({\"North-America\":0, \"Europe\":1,\"Australia\":2,\"Asia\":3})\n",
    "# cat[\"workclass\"] = cat[\"workclass\"].astype(int)\n",
    "cat_currency_test_one_hot = pd.get_dummies(cat_test[\"currency\"], \n",
    "                                     prefix='currency')\n",
    "cat_currency_test_one_hot.head()"
   ]
  },
  {
   "cell_type": "code",
   "execution_count": 22,
   "metadata": {},
   "outputs": [
    {
     "data": {
      "text/plain": [
       "Index(['backers_count', 'goal', 'country_0.0', 'country_1.0', 'country_2.0',\n",
       "       'country_3.0', 'country_4.0', 'country_5.0', 'currency_0', 'currency_1',\n",
       "       'currency_2', 'currency_3', 'disable_communication', 'deadline_year',\n",
       "       'deadline_month', 'deadline_day', 'deadline_hour',\n",
       "       'state_changed_at_year', 'state_changed_at_month',\n",
       "       'state_changed_at_day', 'state_changed_at_hour', 'created_at_year',\n",
       "       'created_at_month', 'created_at_day', 'created_at_hour',\n",
       "       'launched_at_year', 'launched_at_month', 'launched_at_day',\n",
       "       'launched_at_hour'],\n",
       "      dtype='object')"
      ]
     },
     "execution_count": 22,
     "metadata": {},
     "output_type": "execute_result"
    }
   ],
   "source": [
    "cat[\"disable_communication\"] = np.where(cat[\"disable_communication\"]==True,1,0)\n",
    "\n",
    "cat.head()\n",
    "\n",
    "cat_test[\"disable_communication\"] = np.where(cat_test[\"disable_communication\"]==True,1,0)\n",
    "\n",
    "cat_test.head()\n",
    "\n",
    "cat_con_enc = pd.concat([cat_country_one_hot, \n",
    "                        cat_currency_one_hot] \n",
    "                        ,axis=1)\n",
    "final=pd.concat([num,cat_con_enc,cat],axis=1)\n",
    "\n",
    "y=final['final_status']\n",
    "final.drop(['country','currency','final_status'],axis=1,inplace=True)\n",
    "final.columns\n",
    "\n",
    "cat_test_con_enc = pd.concat([cat_country_test_one_hot, \n",
    "                        cat_currency_test_one_hot] \n",
    "                        , axis=1)\n",
    "final_test=pd.concat([num_test,cat_test_con_enc,cat_test],axis=1)\n",
    "\n",
    "# y=final['final_status']\n",
    "final_test.drop(['country','currency'],axis=1,inplace=True)\n",
    "final.columns\n"
   ]
  },
  {
   "cell_type": "code",
   "execution_count": 23,
   "metadata": {},
   "outputs": [
    {
     "data": {
      "text/html": [
       "<div>\n",
       "<style scoped>\n",
       "    .dataframe tbody tr th:only-of-type {\n",
       "        vertical-align: middle;\n",
       "    }\n",
       "\n",
       "    .dataframe tbody tr th {\n",
       "        vertical-align: top;\n",
       "    }\n",
       "\n",
       "    .dataframe thead th {\n",
       "        text-align: right;\n",
       "    }\n",
       "</style>\n",
       "<table border=\"1\" class=\"dataframe\">\n",
       "  <thead>\n",
       "    <tr style=\"text-align: right;\">\n",
       "      <th></th>\n",
       "      <th>goal</th>\n",
       "      <th>backers_count</th>\n",
       "      <th>country_0.0</th>\n",
       "      <th>country_1.0</th>\n",
       "      <th>country_2.0</th>\n",
       "      <th>country_3.0</th>\n",
       "      <th>country_4.0</th>\n",
       "      <th>country_5.0</th>\n",
       "      <th>currency_0</th>\n",
       "      <th>currency_1</th>\n",
       "      <th>...</th>\n",
       "      <th>state_changed_at_day</th>\n",
       "      <th>state_changed_at_hour</th>\n",
       "      <th>created_at_year</th>\n",
       "      <th>created_at_month</th>\n",
       "      <th>created_at_day</th>\n",
       "      <th>created_at_hour</th>\n",
       "      <th>launched_at_year</th>\n",
       "      <th>launched_at_month</th>\n",
       "      <th>launched_at_day</th>\n",
       "      <th>launched_at_hour</th>\n",
       "    </tr>\n",
       "  </thead>\n",
       "  <tbody>\n",
       "    <tr>\n",
       "      <th>0</th>\n",
       "      <td>7000.0</td>\n",
       "      <td>0</td>\n",
       "      <td>1</td>\n",
       "      <td>0</td>\n",
       "      <td>0</td>\n",
       "      <td>0</td>\n",
       "      <td>0</td>\n",
       "      <td>0</td>\n",
       "      <td>1</td>\n",
       "      <td>0</td>\n",
       "      <td>...</td>\n",
       "      <td>9</td>\n",
       "      <td>5</td>\n",
       "      <td>2015</td>\n",
       "      <td>10</td>\n",
       "      <td>28</td>\n",
       "      <td>8</td>\n",
       "      <td>2015</td>\n",
       "      <td>10</td>\n",
       "      <td>30</td>\n",
       "      <td>4</td>\n",
       "    </tr>\n",
       "    <tr>\n",
       "      <th>1</th>\n",
       "      <td>35000.0</td>\n",
       "      <td>0</td>\n",
       "      <td>1</td>\n",
       "      <td>0</td>\n",
       "      <td>0</td>\n",
       "      <td>0</td>\n",
       "      <td>0</td>\n",
       "      <td>0</td>\n",
       "      <td>1</td>\n",
       "      <td>0</td>\n",
       "      <td>...</td>\n",
       "      <td>22</td>\n",
       "      <td>9</td>\n",
       "      <td>2015</td>\n",
       "      <td>12</td>\n",
       "      <td>17</td>\n",
       "      <td>1</td>\n",
       "      <td>2015</td>\n",
       "      <td>12</td>\n",
       "      <td>18</td>\n",
       "      <td>9</td>\n",
       "    </tr>\n",
       "    <tr>\n",
       "      <th>2</th>\n",
       "      <td>49500.0</td>\n",
       "      <td>0</td>\n",
       "      <td>1</td>\n",
       "      <td>0</td>\n",
       "      <td>0</td>\n",
       "      <td>0</td>\n",
       "      <td>0</td>\n",
       "      <td>0</td>\n",
       "      <td>1</td>\n",
       "      <td>0</td>\n",
       "      <td>...</td>\n",
       "      <td>3</td>\n",
       "      <td>5</td>\n",
       "      <td>2015</td>\n",
       "      <td>11</td>\n",
       "      <td>27</td>\n",
       "      <td>5</td>\n",
       "      <td>2015</td>\n",
       "      <td>11</td>\n",
       "      <td>28</td>\n",
       "      <td>6</td>\n",
       "    </tr>\n",
       "    <tr>\n",
       "      <th>3</th>\n",
       "      <td>40000.0</td>\n",
       "      <td>0</td>\n",
       "      <td>1</td>\n",
       "      <td>0</td>\n",
       "      <td>0</td>\n",
       "      <td>0</td>\n",
       "      <td>0</td>\n",
       "      <td>0</td>\n",
       "      <td>1</td>\n",
       "      <td>0</td>\n",
       "      <td>...</td>\n",
       "      <td>17</td>\n",
       "      <td>0</td>\n",
       "      <td>2015</td>\n",
       "      <td>8</td>\n",
       "      <td>31</td>\n",
       "      <td>2</td>\n",
       "      <td>2015</td>\n",
       "      <td>9</td>\n",
       "      <td>17</td>\n",
       "      <td>0</td>\n",
       "    </tr>\n",
       "    <tr>\n",
       "      <th>4</th>\n",
       "      <td>20000.0</td>\n",
       "      <td>0</td>\n",
       "      <td>1</td>\n",
       "      <td>0</td>\n",
       "      <td>0</td>\n",
       "      <td>0</td>\n",
       "      <td>0</td>\n",
       "      <td>0</td>\n",
       "      <td>1</td>\n",
       "      <td>0</td>\n",
       "      <td>...</td>\n",
       "      <td>1</td>\n",
       "      <td>7</td>\n",
       "      <td>2016</td>\n",
       "      <td>2</td>\n",
       "      <td>18</td>\n",
       "      <td>8</td>\n",
       "      <td>2016</td>\n",
       "      <td>3</td>\n",
       "      <td>19</td>\n",
       "      <td>2</td>\n",
       "    </tr>\n",
       "  </tbody>\n",
       "</table>\n",
       "<p>5 rows × 29 columns</p>\n",
       "</div>"
      ],
      "text/plain": [
       "      goal  backers_count  country_0.0  country_1.0  country_2.0  country_3.0  \\\n",
       "0   7000.0              0            1            0            0            0   \n",
       "1  35000.0              0            1            0            0            0   \n",
       "2  49500.0              0            1            0            0            0   \n",
       "3  40000.0              0            1            0            0            0   \n",
       "4  20000.0              0            1            0            0            0   \n",
       "\n",
       "   country_4.0  country_5.0  currency_0  currency_1        ...         \\\n",
       "0            0            0           1           0        ...          \n",
       "1            0            0           1           0        ...          \n",
       "2            0            0           1           0        ...          \n",
       "3            0            0           1           0        ...          \n",
       "4            0            0           1           0        ...          \n",
       "\n",
       "   state_changed_at_day  state_changed_at_hour  created_at_year  \\\n",
       "0                     9                      5             2015   \n",
       "1                    22                      9             2015   \n",
       "2                     3                      5             2015   \n",
       "3                    17                      0             2015   \n",
       "4                     1                      7             2016   \n",
       "\n",
       "   created_at_month  created_at_day  created_at_hour  launched_at_year  \\\n",
       "0                10              28                8              2015   \n",
       "1                12              17                1              2015   \n",
       "2                11              27                5              2015   \n",
       "3                 8              31                2              2015   \n",
       "4                 2              18                8              2016   \n",
       "\n",
       "   launched_at_month  launched_at_day  launched_at_hour  \n",
       "0                 10               30                 4  \n",
       "1                 12               18                 9  \n",
       "2                 11               28                 6  \n",
       "3                  9               17                 0  \n",
       "4                  3               19                 2  \n",
       "\n",
       "[5 rows x 29 columns]"
      ]
     },
     "execution_count": 23,
     "metadata": {},
     "output_type": "execute_result"
    }
   ],
   "source": [
    "final_test.head()\n"
   ]
  },
  {
   "cell_type": "code",
   "execution_count": 34,
   "metadata": {},
   "outputs": [],
   "source": [
    "# from sklearn.model_selection import train_test_split\n",
    "# X_train,X_test,y_train,y_test=train_test_split(final,y,test_size=0.20)\n",
    "X_train=final\n",
    "y_train=y\n",
    "X_train.columns\n",
    "X_test=final_test\n"
   ]
  },
  {
   "cell_type": "code",
   "execution_count": 25,
   "metadata": {},
   "outputs": [],
   "source": [
    "from sklearn import model_selection, tree, preprocessing, metrics, linear_model\n",
    "def fit_ml_algo(algo,X_train,y_train,cv):\n",
    "    # first pass\n",
    "    model=algo.fit(X_train,y_train)\n",
    "    acc=round(model.score(X_train,y_train)*100,2)\n",
    "    \n",
    "    # Cross Validation\n",
    "    train_pred=model_selection.cross_val_predict(algo,X_train,y_train,cv=cv,n_jobs=-1)\n",
    "    \n",
    "    #Cross validation accuracy matrix\n",
    "    \n",
    "    acc_cv=round(metrics.accuracy_score(y_train,train_pred)*100,2)\n",
    "    return train_pred,acc,acc_cv"
   ]
  },
  {
   "cell_type": "code",
   "execution_count": 26,
   "metadata": {},
   "outputs": [],
   "source": [
    "from sklearn.model_selection import train_test_split\n",
    "from sklearn.svm import LinearSVC\n",
    "from sklearn.ensemble import GradientBoostingClassifier\n",
    "from sklearn.neighbors import KNeighborsClassifier\n",
    "from sklearn.naive_bayes import GaussianNB\n",
    "from sklearn.linear_model import LinearRegression, LogisticRegression, SGDClassifier\n",
    "from sklearn.tree import DecisionTreeClassifier\n",
    "import xgboost\n",
    "\n",
    "import warnings\n",
    "warnings.filterwarnings('ignore')\n"
   ]
  },
  {
   "cell_type": "code",
   "execution_count": 27,
   "metadata": {},
   "outputs": [
    {
     "name": "stdout",
     "output_type": "stream",
     "text": [
      "Accuracy: 81.73\n",
      "Accuracy CV 10-Fold: 81.63\n"
     ]
    }
   ],
   "source": [
    "train_pred_log, acc_log, acc_cv_log = fit_ml_algo(LogisticRegression(), \n",
    "                                                               X_train, \n",
    "                                                               y_train, \n",
    "                                                                    10)\n",
    "print(\"Accuracy: %s\" % acc_log)\n",
    "print(\"Accuracy CV 10-Fold: %s\" % acc_cv_log)\n"
   ]
  },
  {
   "cell_type": "code",
   "execution_count": 28,
   "metadata": {},
   "outputs": [
    {
     "name": "stdout",
     "output_type": "stream",
     "text": [
      "Accuracy: 100.0\n",
      "Accuracy CV 10-Fold: 75.57\n"
     ]
    }
   ],
   "source": [
    "train_pred_log, acc_log, acc_cv_log = fit_ml_algo(DecisionTreeClassifier(), \n",
    "                                                               X_train, \n",
    "                                                               y_train, \n",
    "                                                                    10)\n",
    "print(\"Accuracy: %s\" % acc_log)\n",
    "print(\"Accuracy CV 10-Fold: %s\" % acc_cv_log)\n"
   ]
  },
  {
   "cell_type": "code",
   "execution_count": 47,
   "metadata": {},
   "outputs": [
    {
     "name": "stdout",
     "output_type": "stream",
     "text": [
      "Accuracy: 87.95\n",
      "Accuracy CV 10-Fold: 85.65\n"
     ]
    }
   ],
   "source": [
    "knn=KNeighborsClassifier(n_neighbors=14)\n",
    "train_pred_log, acc_log, acc_cv_log = fit_ml_algo(knn, \n",
    "                                                               X_train, \n",
    "                                                               y_train, \n",
    "                                                                    10)\n",
    "print(\"Accuracy: %s\" % acc_log)\n",
    "print(\"Accuracy CV 10-Fold: %s\" % acc_cv_log)\n"
   ]
  },
  {
   "cell_type": "code",
   "execution_count": 30,
   "metadata": {},
   "outputs": [
    {
     "name": "stdout",
     "output_type": "stream",
     "text": [
      "Accuracy: 87.88\n",
      "Accuracy CV 10-Fold: 69.55\n"
     ]
    }
   ],
   "source": [
    "model=GradientBoostingClassifier(n_estimators=150)\n",
    "train_pred_log, acc_log, acc_cv_log = fit_ml_algo(model, \n",
    "                                                               X_train, \n",
    "                                                               y_train, \n",
    "                                                                    10)\n",
    "print(\"Accuracy: %s\" % acc_log)\n",
    "print(\"Accuracy CV 10-Fold: %s\" % acc_cv_log)\n"
   ]
  },
  {
   "cell_type": "code",
   "execution_count": 41,
   "metadata": {},
   "outputs": [
    {
     "name": "stdout",
     "output_type": "stream",
     "text": [
      "Accuracy: 87.88\n",
      "Accuracy CV 10-Fold: 70.95\n"
     ]
    }
   ],
   "source": [
    "from xgboost import XGBClassifier\n",
    "mod=XGBClassifier(n_estimators=150)\n",
    "train_pred_log, acc_log, acc_cv_log = fit_ml_algo(mod, \n",
    "                                                               X_train, \n",
    "                                                               y_train, \n",
    "                                                                    10)\n",
    "print(\"Accuracy: %s\" % acc_log)\n",
    "print(\"Accuracy CV 10-Fold: %s\" % acc_cv_log)"
   ]
  },
  {
   "cell_type": "code",
   "execution_count": 57,
   "metadata": {},
   "outputs": [
    {
     "name": "stdout",
     "output_type": "stream",
     "text": [
      "Accuracy: 84.99\n",
      "Accuracy CV 10-Fold: 81.59\n"
     ]
    }
   ],
   "source": [
    "from sklearn.linear_model import LinearRegression, LogisticRegression, SGDClassifier\n",
    "clf=SGDClassifier(max_iter=1000, tol=1e-3)\n",
    "# clf.fit(X_train, Y_train)\n",
    "\n",
    "train_pred_log, acc_log, acc_cv_log = fit_ml_algo(clf, \n",
    "                                                               X_train, \n",
    "                                                               y_train, \n",
    "                                                                    10)\n",
    "print(\"Accuracy: %s\" % acc_log)\n",
    "print(\"Accuracy CV 10-Fold: %s\" % acc_cv_log)"
   ]
  },
  {
   "cell_type": "code",
   "execution_count": 62,
   "metadata": {},
   "outputs": [],
   "source": [
    "# Finally selecting KNeighbour Classifier\n",
    "\n",
    "predictions =knn.predict(X_test)\n",
    "predictions[:20]\n",
    "\n",
    "# Create a submisison dataframe and append the relevant columns\n",
    "submission = pd.DataFrame()\n",
    "submission['project_id'] = test['project_id']\n",
    "submission['final_status'] = predictions # our model predictions on the test dataset\n",
    "submission['final_status'].value_counts()\n",
    "\n",
    "submission.to_csv('submission_prjt_fund.csv',index=False)\n"
   ]
  }
 ],
 "metadata": {
  "kernelspec": {
   "display_name": "Python 3",
   "language": "python",
   "name": "python3"
  },
  "language_info": {
   "codemirror_mode": {
    "name": "ipython",
    "version": 3
   },
   "file_extension": ".py",
   "mimetype": "text/x-python",
   "name": "python",
   "nbconvert_exporter": "python",
   "pygments_lexer": "ipython3",
   "version": "3.7.1"
  }
 },
 "nbformat": 4,
 "nbformat_minor": 2
}
